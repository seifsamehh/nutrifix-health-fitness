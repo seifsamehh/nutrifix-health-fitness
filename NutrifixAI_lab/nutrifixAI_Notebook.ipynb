{
 "cells": [
  {
   "cell_type": "code",
   "execution_count": 3,
   "id": "1f5bdd3c",
   "metadata": {
    "ExecuteTime": {
     "end_time": "2024-03-25T08:34:06.332241Z",
     "start_time": "2024-03-25T08:33:46.966581Z"
    }
   },
   "outputs": [],
   "source": [
    "from dotenv import load_dotenv\n",
    "from langchain_google_genai import ChatGoogleGenerativeAI\n",
    "from langchain_community.chat_models import ChatOllama\n",
    "from langchain.prompts import ChatPromptTemplate\n",
    "from langchain.schema.output_parser import StrOutputParser"
   ]
  },
  {
   "cell_type": "code",
   "execution_count": 4,
   "id": "1a6598ef",
   "metadata": {
    "ExecuteTime": {
     "end_time": "2024-03-25T08:34:06.352599Z",
     "start_time": "2024-03-25T08:34:06.341649Z"
    }
   },
   "outputs": [
    {
     "data": {
      "text/plain": [
       "True"
      ]
     },
     "execution_count": 4,
     "metadata": {},
     "output_type": "execute_result"
    }
   ],
   "source": [
    "load_dotenv('1.env')"
   ]
  },
  {
   "cell_type": "code",
   "execution_count": 5,
   "id": "887a6ac5",
   "metadata": {
    "ExecuteTime": {
     "end_time": "2024-03-25T08:34:06.361380Z",
     "start_time": "2024-03-25T08:34:06.355595Z"
    }
   },
   "outputs": [],
   "source": [
    "activity_levels = ['Sedentary', 'Lightly Active', 'Moderately Active', 'Very Active', 'Extremely Active']\n",
    "activity_infos = [\n",
    "    'Little to no exercise or physical activity in a typical day, primarily sedentary lifestyle (e.g., desk job, minimal walking)',\n",
    "    'Light exercise or activity 1-3 days per week (e.g., light walking, office job with occasional movement)',\n",
    "    'Moderately Active: Moderate exercise or activity 3-5 days per week (e.g., regular workouts, active lifestyle with moderate movement)',\n",
    "    'Very Active: Intense exercise or activity 6-7 days per week (e.g., heavy workouts, physically demanding job, regular sports participation)',\n",
    "    'Extremely Active: Strenuous exercise or activity most days of the week, coupled with a highly active job or lifestyle (e.g., intense training, professional athlete, physically demanding occupation)'\n",
    "]\n",
    "\n",
    "bool_option = ['Yes', 'No']\n",
    "\n",
    "medical_conditions = ['Diabetes', 'Hypertension (High Blood Pressure)', 'Heart Disease', 'Celiac Disease (Gluten Intolerance)', 'Irritable Bowel Syndrome (IBS)', \"None\", \"Other\"]\n",
    "\n",
    "allergies = ['Gluten', 'Lactose', 'Nuts', 'Shellfish', 'Soy', 'None', 'Other']\n",
    "\n",
    "fitness_goals = ['Lose Weight', 'Maintain Weight', 'Muscle Gain', 'Endurance Improvement', 'Overall Health Maintenance', 'Flexibility and Mobilit']\n",
    "\n",
    "stress_levels = ['Low', 'Moderate', 'High', 'Very High', 'Not Sure/Varies']\n",
    "\n",
    "sleep_patterns = ['Excellent', 'Good', 'Fair', 'Poor', 'Varied']\n",
    "sleep_infos = ['Consistently getting 7-9 hours of high-quality sleep each night',\n",
    "              'Generally getting 6-8 hours of sleep most nights with occasional disturbances.',\n",
    "              'Experiencing occasional difficulty falling asleep or staying asleep, averaging around 5-7 hours of sleep per night.',\n",
    "              'Frequently experiencing sleep disturbances or insomnia, resulting in less than 5 hours of sleep per night on average.',\n",
    "              'Sleep patterns vary significantly from night to night, making it difficult to establish a consistent sleep schedule.']\n",
    "\n",
    "smoker_list = ['Non-smoker', 'Occasional-smoker', 'Regular Smoker', 'Former Smoker', 'Heavy Smoker']\n",
    "alcholic_list = ['Non-drinker', 'Occasional drinker', 'Moderate drinker', 'Regular drinker', 'Heavy drinker']"
   ]
  },
  {
   "cell_type": "code",
   "execution_count": 6,
   "id": "556ec841",
   "metadata": {
    "ExecuteTime": {
     "end_time": "2024-03-25T08:34:06.369294Z",
     "start_time": "2024-03-25T08:34:06.363384Z"
    }
   },
   "outputs": [],
   "source": [
    "def load_gemini(temperature=0.3):\n",
    "    llm = ChatGoogleGenerativeAI(model='gemini-pro', temperature=temperature)\n",
    "    return llm\n",
    "\n",
    "def load_mistral(temperature=0.3):\n",
    "    llm = ChatOllama(model, temperature=temperature)\n",
    "    return llm"
   ]
  },
  {
   "cell_type": "code",
   "execution_count": 7,
   "id": "7d360f16",
   "metadata": {
    "ExecuteTime": {
     "end_time": "2024-03-25T08:34:06.441230Z",
     "start_time": "2024-03-25T08:34:06.371307Z"
    }
   },
   "outputs": [],
   "source": [
    "gemini = load_gemini()"
   ]
  },
  {
   "cell_type": "code",
   "execution_count": 8,
   "id": "f8c876fb",
   "metadata": {
    "ExecuteTime": {
     "end_time": "2024-03-25T08:34:09.118308Z",
     "start_time": "2024-03-25T08:34:06.443228Z"
    }
   },
   "outputs": [
    {
     "data": {
      "text/plain": [
       "AIMessage(content='I am well, thank you for asking. How are you doing today?')"
      ]
     },
     "execution_count": 8,
     "metadata": {},
     "output_type": "execute_result"
    }
   ],
   "source": [
    "gemini.invoke('Hello how are you doing')"
   ]
  },
  {
   "cell_type": "code",
   "execution_count": 9,
   "id": "9c6e9744",
   "metadata": {
    "ExecuteTime": {
     "end_time": "2024-03-21T22:30:11.359499Z",
     "start_time": "2024-03-21T22:30:08.937588Z"
    }
   },
   "outputs": [
    {
     "data": {
      "text/plain": [
       "AIMessage(content='Machine learning is a subfield of artificial intelligence that gives computers the ability to learn without being explicitly programmed. It involves training algorithms on large datasets to identify patterns and make predictions. Machine learning models can be used for a wide range of tasks, including image recognition, natural language processing, and predictive analytics. By leveraging vast amounts of data and advanced algorithms, machine learning enables computers to perform complex tasks that were previously impossible, revolutionizing industries and enhancing our daily lives.')"
      ]
     },
     "execution_count": 9,
     "metadata": {},
     "output_type": "execute_result"
    }
   ],
   "source": [
    "gemini.invoke('Write a small paragrpah about Machine Learning')"
   ]
  },
  {
   "cell_type": "code",
   "execution_count": 10,
   "id": "4a69c35a",
   "metadata": {
    "ExecuteTime": {
     "end_time": "2024-03-21T22:31:42.160438Z",
     "start_time": "2024-03-21T22:31:42.154626Z"
    }
   },
   "outputs": [],
   "source": [
    "def diet_generator(age:float, height:float, weight:float, gender:str, activity_level:str, medical_condition:str, allergie:str, medication:str, fitness_goal:str, stress_level:str, sleep_pattern:str, smoker:str, alchool:str, llm) -> str:\n",
    "    \n",
    "    idx = activity_levels.index(activity_level)\n",
    "    activity_info = activity_infos[idx]\n",
    "            \n",
    "    idx2 = sleep_patterns.index(sleep_pattern)\n",
    "    sleep_info = sleep_infos[idx]\n",
    "    \n",
    "    passed_dict = {\n",
    "        'age':age,\n",
    "        'height':height,\n",
    "        'weight':weight,\n",
    "        'gender':gender,\n",
    "        'activity_level':activity_level,\n",
    "        'activity_info': activity_info,\n",
    "        'medical_condition':medical_condition,\n",
    "        'allergie':allergie,\n",
    "        'medication':medication,\n",
    "        'fitness_goal':fitness_goal,\n",
    "        'stress_level': stress_level,\n",
    "        'sleep_pattern': sleep_pattern,\n",
    "        'sleep_info' : sleep_info,\n",
    "        'smoker': smoker,\n",
    "        'alchool': alchool\n",
    "    }\n",
    "    \n",
    "    prompt = ChatPromptTemplate.from_template(\"\"\"You are a Professional Nutritionist who providing diet plan over the whole week.\n",
    "Provide a comprehensive and customized diet plan Based on the following client information delimited by triple backticls:\n",
    "```\n",
    "Client's information:\n",
    "\n",
    " - Age: {age}\n",
    " - Height: {height} cm\n",
    " - Weight: {weight} kg\n",
    " - gender: {gender}\n",
    " - activity level is {activity_level} which {activity_info}\n",
    " - {medical_condition}\n",
    " - {allergie}\n",
    " - {medication}\n",
    " - Fitness Goal is to {fitness_goal}\n",
    " - Stress Level is {stress_level}\n",
    " - My sleep pattern is {sleep_pattern} which is {sleep_info}\n",
    " - Client is {smoker}\n",
    " - Regarding Alchool Client is {alchool}\n",
    "```\n",
    "\n",
    "Your task is to generate comperhinsive 7 days diet plan according to the client's information.\n",
    "\"\"\")\n",
    "    \n",
    "    output_parser = StrOutputParser()\n",
    "    \n",
    "    chain = prompt | llm | output_parser\n",
    "    \n",
    "    diet_plan = chain.invoke(passed_dict)\n",
    "    \n",
    "    return diet_plan"
   ]
  },
  {
   "cell_type": "code",
   "execution_count": 2,
   "id": "2339aabb",
   "metadata": {
    "ExecuteTime": {
     "end_time": "2024-03-25T08:33:43.705848Z",
     "start_time": "2024-03-25T08:33:43.700616Z"
    }
   },
   "outputs": [],
   "source": [
    "def workout_plan_gen(my_goals:str, fitness_level:str, days:int, hours:int, helth_cosnd:str, routine:str, llm, language='En')->str:\n",
    "    \n",
    "    passed_dict = {\n",
    "        'my_goals':my_goals,\n",
    "        'fitness_level':fitness_level,\n",
    "        'days':days,\n",
    "        'hours':hours,\n",
    "        'helth_cosnd':helth_cosnd,\n",
    "        'routine': routine,\n",
    "    }\n",
    "    \n",
    "    prompt = ChatPromptTemplate.from_template(\"\"\"You are a Professional Fitness Trainer:\n",
    "\n",
    "Generate a workout plan with diversity and creative exercises.\n",
    "\n",
    "Please note the following details:\n",
    "* My Goals: I'm looking to {my_goals}\n",
    "* Fitness Level: {fitness_level}.\n",
    "* Available Equipment: I have access to a gym with various equipment.\n",
    "* Time Commitment: I'm dedicated to working out {days} days a week, and I have {hours} hours a day I can spend during each session.\n",
    "* Health Considerations: I'm in the {helth_cosnd}.\n",
    "* Preferred Routine: I like to follow {routine} routine.\\nWorkout Plan:\"\"\")\n",
    "    \n",
    "    output_parser = StrOutputParser()\n",
    "    \n",
    "    chain = prompt | llm | output_parser\n",
    "    \n",
    "    diet_plan = chain.invoke(passed_dict)\n",
    "    \n",
    "    return diet_plan"
   ]
  },
  {
   "cell_type": "code",
   "execution_count": null,
   "id": "809dd73d",
   "metadata": {},
   "outputs": [],
   "source": []
  }
 ],
 "metadata": {
  "kernelspec": {
   "display_name": "AIkernel",
   "language": "python",
   "name": "aikernel"
  },
  "language_info": {
   "codemirror_mode": {
    "name": "ipython",
    "version": 3
   },
   "file_extension": ".py",
   "mimetype": "text/x-python",
   "name": "python",
   "nbconvert_exporter": "python",
   "pygments_lexer": "ipython3",
   "version": "3.11.5"
  }
 },
 "nbformat": 4,
 "nbformat_minor": 5
}
