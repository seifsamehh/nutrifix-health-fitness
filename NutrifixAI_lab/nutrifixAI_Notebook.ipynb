{
 "cells": [
  {
   "cell_type": "markdown",
   "id": "fdc45585",
   "metadata": {},
   "source": [
    "<a id=\"toc\"></a>\n",
    "<div class=\"list-group\" id=\"list-tab\" role=\"tablist\"></div>\n",
    "\n",
    "## <div style=\"background-color:#B21010;font-family:sans-serif;color:#FFF9ED;font-size:150%;text-align:center;border-radius:9px 9px; padding: 15px; border-style: solid; border-color: black\">TABLE OF CONTENTS</div>   \n",
    "    \n",
    "* [1. Import Necessaries](#1)\n",
    "    \n",
    "* [2. Setup Enviroument and Static Data](#2)\n",
    "    \n",
    "* [3. Load LLMs](#3)\n",
    "\n",
    "* [4. Implement Diet Plan Generator](#4)\n",
    "\n",
    "* [5. Test the Diet Plan Generator](#5)\n",
    "   \n",
    "* [6. Implement Workout Plan Generator](#6)\n",
    "\n",
    "* [7. Test the Workout Plan Generator](#7)"
   ]
  },
  {
   "cell_type": "markdown",
   "id": "2928d109",
   "metadata": {},
   "source": [
    "<a id=\"1\"></a>\n",
    "# <b>1 <span style='color:#B21010'>||</span> Import Necessaries </b>"
   ]
  },
  {
   "cell_type": "code",
   "execution_count": 14,
   "id": "1f5bdd3c",
   "metadata": {
    "ExecuteTime": {
     "end_time": "2024-03-25T16:02:13.260834Z",
     "start_time": "2024-03-25T16:02:13.256404Z"
    }
   },
   "outputs": [],
   "source": [
    "from dotenv import load_dotenv\n",
    "from langchain_google_genai import ChatGoogleGenerativeAI\n",
    "from langchain_community.chat_models import ChatOllama\n",
    "from langchain.prompts import ChatPromptTemplate\n",
    "from langchain.schema.output_parser import StrOutputParser\n",
    "from IPython.display import display, Markdown, Latex"
   ]
  },
  {
   "cell_type": "markdown",
   "id": "ba1f73a9",
   "metadata": {},
   "source": [
    "<a id=\"1\"></a>\n",
    "# <b>2 <span style='color:#B21010'>||</span> Setup Enviroument and Static Data</b>"
   ]
  },
  {
   "cell_type": "code",
   "execution_count": 2,
   "id": "1a6598ef",
   "metadata": {
    "ExecuteTime": {
     "end_time": "2024-03-25T15:49:58.454488Z",
     "start_time": "2024-03-25T15:49:58.446373Z"
    }
   },
   "outputs": [
    {
     "data": {
      "text/plain": [
       "True"
      ]
     },
     "execution_count": 2,
     "metadata": {},
     "output_type": "execute_result"
    }
   ],
   "source": [
    "load_dotenv('1.env')"
   ]
  },
  {
   "cell_type": "code",
   "execution_count": 3,
   "id": "887a6ac5",
   "metadata": {
    "ExecuteTime": {
     "end_time": "2024-03-25T15:49:58.466847Z",
     "start_time": "2024-03-25T15:49:58.456488Z"
    }
   },
   "outputs": [],
   "source": [
    "activity_levels = ['Sedentary', 'Lightly Active', 'Moderately Active', 'Very Active', 'Extremely Active']\n",
    "activity_infos = [\n",
    "    'Little to no exercise or physical activity in a typical day, primarily sedentary lifestyle (e.g., desk job, minimal walking)',\n",
    "    'Light exercise or activity 1-3 days per week (e.g., light walking, office job with occasional movement)',\n",
    "    'Moderately Active: Moderate exercise or activity 3-5 days per week (e.g., regular workouts, active lifestyle with moderate movement)',\n",
    "    'Very Active: Intense exercise or activity 6-7 days per week (e.g., heavy workouts, physically demanding job, regular sports participation)',\n",
    "    'Extremely Active: Strenuous exercise or activity most days of the week, coupled with a highly active job or lifestyle (e.g., intense training, professional athlete, physically demanding occupation)'\n",
    "]\n",
    "\n",
    "bool_option = ['Yes', 'No']\n",
    "\n",
    "medical_conditions = ['Diabetes', 'Hypertension (High Blood Pressure)', 'Heart Disease', 'Celiac Disease (Gluten Intolerance)', 'Irritable Bowel Syndrome (IBS)', \"None\", \"Other\"]\n",
    "\n",
    "allergies = ['Gluten', 'Lactose', 'Nuts', 'Shellfish', 'Soy', 'None', 'Other']\n",
    "\n",
    "fitness_goals = ['Lose Weight', 'Maintain Weight', 'Muscle Gain', 'Endurance Improvement', 'Overall Health Maintenance', 'Flexibility and Mobilit']\n",
    "\n",
    "stress_levels = ['Low', 'Moderate', 'High', 'Very High', 'Not Sure/Varies']\n",
    "\n",
    "sleep_patterns = ['Excellent', 'Good', 'Fair', 'Poor', 'Varied']\n",
    "sleep_infos = ['Consistently getting 7-9 hours of high-quality sleep each night',\n",
    "              'Generally getting 6-8 hours of sleep most nights with occasional disturbances.',\n",
    "              'Experiencing occasional difficulty falling asleep or staying asleep, averaging around 5-7 hours of sleep per night.',\n",
    "              'Frequently experiencing sleep disturbances or insomnia, resulting in less than 5 hours of sleep per night on average.',\n",
    "              'Sleep patterns vary significantly from night to night, making it difficult to establish a consistent sleep schedule.']\n",
    "\n",
    "smoker_list = ['Non-smoker', 'Occasional-smoker', 'Regular Smoker', 'Former Smoker', 'Heavy Smoker']\n",
    "alcholic_list = ['Non-drinker', 'Occasional drinker', 'Moderate drinker', 'Regular drinker', 'Heavy drinker']"
   ]
  },
  {
   "cell_type": "markdown",
   "id": "26fda402",
   "metadata": {},
   "source": [
    "<a id=\"3\"></a>\n",
    "# <b>3 <span style='color:#B21010'>||</span> Load LLMs</b>"
   ]
  },
  {
   "cell_type": "code",
   "execution_count": 12,
   "id": "556ec841",
   "metadata": {
    "ExecuteTime": {
     "end_time": "2024-03-25T16:02:07.164595Z",
     "start_time": "2024-03-25T16:02:07.160377Z"
    }
   },
   "outputs": [],
   "source": [
    "def load_gemini(temperature=0.3):\n",
    "    llm = ChatGoogleGenerativeAI(model='gemini-pro', temperature=temperature)\n",
    "    return llm\n",
    "\n",
    "def load_mistral(temperature=0.3):\n",
    "    llm = ChatOllama(model='mistral', temperature=temperature)\n",
    "    return llm"
   ]
  },
  {
   "cell_type": "code",
   "execution_count": 13,
   "id": "7d360f16",
   "metadata": {
    "ExecuteTime": {
     "end_time": "2024-03-25T16:02:07.418922Z",
     "start_time": "2024-03-25T16:02:07.415189Z"
    }
   },
   "outputs": [],
   "source": [
    "gemini = load_gemini()\n",
    "mistral = load_mistral()"
   ]
  },
  {
   "cell_type": "markdown",
   "id": "2cad0000",
   "metadata": {},
   "source": [
    "<a id=\"4\"></a>\n",
    "# <b>4 <span style='color:#B21010'>||</span> Implement Diet Plan Generator</b>"
   ]
  },
  {
   "cell_type": "code",
   "execution_count": 8,
   "id": "4a69c35a",
   "metadata": {
    "ExecuteTime": {
     "end_time": "2024-03-25T15:50:03.716255Z",
     "start_time": "2024-03-25T15:50:03.709812Z"
    }
   },
   "outputs": [],
   "source": [
    "def diet_generator(age:float, height:float, weight:float, gender:str, activity_level:str, medical_condition:str, allergie:str, medication:str, fitness_goal:str, stress_level:str, sleep_pattern:str, smoker:str, alchool:str, llm) -> str:\n",
    "    \n",
    "    idx = activity_levels.index(activity_level)\n",
    "    activity_info = activity_infos[idx]\n",
    "            \n",
    "    idx2 = sleep_patterns.index(sleep_pattern)\n",
    "    sleep_info = sleep_infos[idx]\n",
    "    \n",
    "    passed_dict = {\n",
    "        'age':age,\n",
    "        'height':height,\n",
    "        'weight':weight,\n",
    "        'gender':gender,\n",
    "        'activity_level':activity_level,\n",
    "        'activity_info': activity_info,\n",
    "        'medical_condition':medical_condition,\n",
    "        'allergie':allergie,\n",
    "        'medication':medication,\n",
    "        'fitness_goal':fitness_goal,\n",
    "        'stress_level': stress_level,\n",
    "        'sleep_pattern': sleep_pattern,\n",
    "        'sleep_info' : sleep_info,\n",
    "        'smoker': smoker,\n",
    "        'alchool': alchool\n",
    "    }\n",
    "    \n",
    "    prompt = ChatPromptTemplate.from_template(\"\"\"You are a Professional Nutritionist who providing diet plan over the whole week.\n",
    "Provide a comprehensive and customized diet plan Based on the following client information delimited by triple backticls:\n",
    "```\n",
    "Client's information:\n",
    "\n",
    " - Age: {age}\n",
    " - Height: {height} cm\n",
    " - Weight: {weight} kg\n",
    " - gender: {gender}\n",
    " - Nationality: Egypt (it is very important to provide Egyptian dishes in your diet plan that aligh with the culture)\n",
    " - activity level is {activity_level} which {activity_info}\n",
    " - {medical_condition}\n",
    " - {allergie}\n",
    " - {medication}\n",
    " - Fitness Goal is to {fitness_goal}\n",
    " - Stress Level is {stress_level}\n",
    " - My sleep pattern is {sleep_pattern} which is {sleep_info}\n",
    " - Client is {smoker}\n",
    " - Regarding Alchool Client is {alchool}\n",
    "```\n",
    "\n",
    "Your task is to generate comperhinsive 7 days diet plan according to the client's information.\"\"\")\n",
    "    \n",
    "    output_parser = StrOutputParser()\n",
    "    \n",
    "    chain = prompt | llm | output_parser\n",
    "    \n",
    "    diet_plan = chain.invoke(passed_dict)\n",
    "    \n",
    "    return diet_plan"
   ]
  },
  {
   "cell_type": "markdown",
   "id": "f6290572",
   "metadata": {},
   "source": [
    "<a id=\"5\"></a>\n",
    "# <b>5 <span style='color:#B21010'>||</span> Test Diet Plan Generator</b>"
   ]
  },
  {
   "cell_type": "code",
   "execution_count": 15,
   "id": "fdfcdd87",
   "metadata": {
    "ExecuteTime": {
     "end_time": "2024-03-25T16:02:38.953796Z",
     "start_time": "2024-03-25T16:02:24.783469Z"
    }
   },
   "outputs": [],
   "source": [
    "age = 22\n",
    "height = 184\n",
    "weight = 86\n",
    "gender = 'Male'\n",
    "activity_level = 'Sedentary'\n",
    "medical_condition = 'None'\n",
    "allergie = 'None'\n",
    "medication = 'None'\n",
    "fitness_goal = 'Maintain Weight'\n",
    "stress_level = 'Moderate'\n",
    "sleep_pattern = 'Fair'\n",
    "smoker = 'Non-smoker'\n",
    "alchool = 'Non-drinker'\n"
   ]
  },
  {
   "cell_type": "code",
   "execution_count": 16,
   "id": "448d309b",
   "metadata": {
    "ExecuteTime": {
     "end_time": "2024-03-25T16:02:38.963256Z",
     "start_time": "2024-03-25T16:02:38.956795Z"
    }
   },
   "outputs": [
    {
     "data": {
      "text/markdown": [
       "**Day 1**\n",
       "\n",
       "* Breakfast: Oatmeal with berries and nuts (1 cup cooked oatmeal, 1/2 cup berries, 1/4 cup nuts)\n",
       "* Lunch: Grilled chicken salad with mixed greens, tomatoes, cucumbers, and carrots (4 oz grilled chicken, 2 cups mixed greens, 1/2 cup tomatoes, 1/2 cup cucumbers, 1/2 cup carrots)\n",
       "* Dinner: Salmon with roasted vegetables (4 oz salmon, 1 cup roasted vegetables)\n",
       "* Snacks: Apple with peanut butter (1 apple, 2 tbsp peanut butter)\n",
       "\n",
       "**Day 2**\n",
       "\n",
       "* Breakfast: Greek yogurt with granola and fruit (1 cup Greek yogurt, 1/4 cup granola, 1/2 cup fruit)\n",
       "* Lunch: Tuna sandwich on whole-wheat bread with lettuce and tomato (1 can tuna, 2 slices whole-wheat bread, 1/4 cup lettuce, 1/4 cup tomato)\n",
       "* Dinner: Chicken stir-fry with brown rice (4 oz chicken, 1 cup vegetables, 1/2 cup brown rice)\n",
       "* Snacks: Banana with almond butter (1 banana, 2 tbsp almond butter)\n",
       "\n",
       "**Day 3**\n",
       "\n",
       "* Breakfast: Scrambled eggs with whole-wheat toast (2 eggs, 2 slices whole-wheat toast)\n",
       "* Lunch: Leftover chicken stir-fry\n",
       "* Dinner: Lentil soup with whole-wheat bread (1 bowl lentil soup, 2 slices whole-wheat bread)\n",
       "* Snacks: Trail mix (1/4 cup nuts, 1/4 cup seeds, 1/4 cup dried fruit)\n",
       "\n",
       "**Day 4**\n",
       "\n",
       "* Breakfast: Smoothie made with fruit, yogurt, and spinach (1 cup fruit, 1 cup yogurt, 1 cup spinach)\n",
       "* Lunch: Salad with grilled shrimp, quinoa, and vegetables (4 oz grilled shrimp, 1 cup quinoa, 2 cups vegetables)\n",
       "* Dinner: Turkey tacos with whole-wheat tortillas (4 oz turkey, 2 whole-wheat tortillas, 1/2 cup vegetables)\n",
       "* Snacks: Hummus with vegetable sticks (1/2 cup hummus, 1 cup vegetable sticks)\n",
       "\n",
       "**Day 5**\n",
       "\n",
       "* Breakfast: Oatmeal with peanut butter and banana (1 cup cooked oatmeal, 2 tbsp peanut butter, 1 banana)\n",
       "* Lunch: Leftover turkey tacos\n",
       "* Dinner: Grilled chicken with sweet potato and broccoli (4 oz grilled chicken, 1 medium sweet potato, 1 cup broccoli)\n",
       "* Snacks: Apple with cheese (1 apple, 1 oz cheese)\n",
       "\n",
       "**Day 6**\n",
       "\n",
       "* Breakfast: Whole-wheat pancakes with fruit syrup (3 whole-wheat pancakes, 1/4 cup fruit syrup)\n",
       "* Lunch: Salad with tuna, beans, and corn (4 oz tuna, 1/2 cup beans, 1/2 cup corn, 2 cups mixed greens)\n",
       "* Dinner: Vegetarian chili with cornbread (1 bowl vegetarian chili, 1 piece cornbread)\n",
       "* Snacks: Yogurt with berries (1 cup yogurt, 1/2 cup berries)\n",
       "\n",
       "**Day 7**\n",
       "\n",
       "* Breakfast: Eggs with whole-wheat toast and avocado (2 eggs, 2 slices whole-wheat toast, 1/2 avocado)\n",
       "* Lunch: Leftover vegetarian chili\n",
       "* Dinner: Salmon with roasted vegetables and quinoa (4 oz salmon, 1 cup roasted vegetables, 1/2 cup quinoa)\n",
       "* Snacks: Trail mix (1/4 cup nuts, 1/4 cup seeds, 1/4 cup dried fruit)\n",
       "\n",
       "**Hydration:**\n",
       "\n",
       "* Drink plenty of water throughout the day, especially before and after meals. Aim for 8-10 glasses of water per day.\n",
       "\n",
       "**Additional Notes:**\n",
       "\n",
       "* This diet plan provides approximately 2,200 calories per day, which is appropriate for a sedentary male who wants to maintain weight.\n",
       "* Choose lean protein sources such as chicken, fish, beans, and tofu.\n",
       "* Include plenty of fruits and vegetables in your diet.\n",
       "* Limit processed foods, sugary drinks, and unhealthy fats.\n",
       "* Cook meals at home as much as possible to control ingredients and portion sizes.\n",
       "* Listen to your body and eat when you're hungry, but stop when you're full.\n",
       "* If you have any questions or concerns, please consult with a registered dietitian or other qualified healthcare professional."
      ],
      "text/plain": [
       "<IPython.core.display.Markdown object>"
      ]
     },
     "metadata": {},
     "output_type": "display_data"
    }
   ],
   "source": [
    "diet_plan_gemini = diet_generator(age, height, weight, gender, activity_level, medical_condition, allergie, medication, fitness_goal, stress_level, sleep_pattern, smoker, alchool, gemini)\n",
    "display(Markdown(diet_plan_gemini))"
   ]
  },
  {
   "cell_type": "code",
   "execution_count": 17,
   "id": "8fbabc6d",
   "metadata": {
    "ExecuteTime": {
     "end_time": "2024-03-25T16:07:52.866648Z",
     "start_time": "2024-03-25T16:03:21.083989Z"
    }
   },
   "outputs": [
    {
     "data": {
      "text/markdown": [
       " Based on the provided client information, here is a comprehensive and customized 7-day diet plan for maintaining weight with a sedentary lifestyle and moderate stress level:\n",
       "\n",
       "**Day 1:**\n",
       "\n",
       "* Breakfast:* Overnight oats with rolled oats, almond milk, chia seeds, sliced banana, and a handful of mixed berries. Topped with a tablespoon of natural peanut butter for healthy fats and added protein.\n",
       "* Mid-Morning Snack:* Apple slices with 1-2 tablespoons of natural nut butter or hummus.\n",
       "* Lunch:* Grilled chicken breast, quinoa, steamed broccoli, and a side salad with avocado, tomatoes, cucumber, and balsamic vinaigrette dressing.\n",
       "* Afternoon Snack:* Carrot sticks with hummus or sliced bell peppers with guacamole.\n",
       "* Dinner:* Grilled salmon, sweet potato, steamed asparagus, and a side of brown rice.\n",
       "* Evening Snack (optional): A small handful of raw nuts or seeds for added fiber and healthy fats.\n",
       "\n",
       "**Day 2:**\n",
       "\n",
       "* Breakfast:* Scrambled eggs with spinach, whole grain toast, and sliced avocado.\n",
       "* Mid-Morning Snack:* Greek yogurt with a handful of mixed berries and a tablespoon of honey or maple syrup for natural sweetness.\n",
       "* Lunch:* Turkey and cheese sandwich on whole grain bread with lettuce, tomato, cucumber, and a side of baby carrots with hummus.\n",
       "* Afternoon Snack:* Sliced pear with 1-2 tablespoons of almond or peanut butter.\n",
       "* Dinner:* Grilled chicken stir fry with bell peppers, zucchini, broccoli, and brown rice.\n",
       "* Evening Snack (optional): A small handful of baby carrots or cucumber slices with hummus.\n",
       "\n",
       "**Day 3:**\n",
       "\n",
       "* Breakfast:* Smoothie made with spinach, frozen mixed berries, banana, almond milk, and a scoop of plant-based protein powder.\n",
       "* Mid-Morning Snack:* Sliced cucumber with hummus or cherry tomatoes with a hard-boiled egg.\n",
       "* Lunch:* Grilled veggie burger on a whole grain bun with lettuce, tomato, avocado, and a side of quinoa salad.\n",
       "* Afternoon Snack:* Apple slices with 1-2 tablespoons of natural nut butter or hummus.\n",
       "* Dinner:* Baked salmon, steamed green beans, and a sweet potato.\n",
       "* Evening Snack (optional): A small handful of raw almonds or walnuts.\n",
       "\n",
       "**Day 4:**\n",
       "\n",
       "* Breakfast:* Overnight chia pudding with almond milk, sliced banana, and a tablespoon of honey or maple syrup for natural sweetness. Topped with a handful of mixed nuts.\n",
       "* Mid-Morning Snack:* Baby carrots with hummus or sliced bell peppers with guacamole.\n",
       "* Lunch:* Grilled chicken salad with mixed greens, avocado, tomatoes, cucumber, and a hard-boiled egg. Topped with a tablespoon of olive oil and balsamic vinaigrette dressing.\n",
       "* Afternoon Snack:* Sliced pear or apple with 1-2 tablespoons of natural nut butter.\n",
       "* Dinner:* Grilled tofu stir fry with bell peppers, zucchini, broccoli, and brown rice.\n",
       "* Evening Snack (optional): A small handful of raw veggies with hummus or a few slices of cucumber with salsa.\n",
       "\n",
       "**Day 5:**\n",
       "\n",
       "* Breakfast:* Whole grain English muffin topped with scrambled eggs, avocado, and a slice of tomato. Served with a side of fresh fruit salad.\n",
       "* Mid-Morning Snack:* Greek yogurt with a handful of mixed berries and a tablespoon of honey or maple syrup for natural sweetness.\n",
       "* Lunch:* Turkey and cheese wrap on a whole grain tortilla with lettuce, tomato, cucumber, and a side of baby carrots with hummus.\n",
       "* Afternoon Snack:* Sliced bell pepper with 1-2 tablespoons of guacamole or sliced jicama with salsa.\n",
       "* Dinner:* Grilled chicken breast, steamed green beans, and quinoa.\n",
       "* Evening Snack (optional): A small handful of raw veggies with hummus or a few slices of cucumber with salsa.\n",
       "\n",
       "**Day 6:**\n",
       "\n",
       "* Breakfast:* Smoothie made with spinach, frozen mixed berries, banana, almond milk, and a scoop of plant-based protein powder. Topped with sliced almonds or walnuts for added crunch.\n",
       "* Mid-Morning Snack:* Apple slices with 1-2 tablespoons of natural nut butter or hummus.\n",
       "* Lunch:* Grilled veggie burger on a whole grain bun with lettuce, tomato, avocado, and a side of roasted sweet potato wedges.\n",
       "* Afternoon Snack:* Sliced cucumber with hummus or baby carrots with ranch dip.\n",
       "* Dinner:* Grilled salmon, steamed asparagus, and brown rice.\n",
       "* Evening Snack (optional): A small handful of raw nuts or seeds for added fiber and healthy fats.\n",
       "\n",
       "**Day 7:**\n",
       "\n",
       "* Breakfast:* Overnight oats with rolled oats, almond milk, chia seeds, sliced banana, and a handful of mixed berries. Topped with a tablespoon of natural peanut butter for healthy fats and added protein.\n",
       "* Mid-Morning Snack:* Sliced pear or apple with 1-2 tablespoons of natural nut butter or hummus.\n",
       "* Lunch:* Grilled chicken Caesar salad with romaine lettuce, cherry tomatoes, avocado, and a side of quinoa. Topped with grilled chicken breast and a light Caesar dressing.\n",
       "* Afternoon Snack:* Baby carrots with hummus or sliced bell peppers with guacamole.\n",
       "* Dinner:* Grilled tofu stir fry with bell peppers, zucchini, broccoli, and brown rice.\n",
       "* Evening Snack (optional): A small handful of raw veggies with hummus or a few slices of cucumber with salsa.\n",
       "\n",
       "This 7-day diet plan is designed to provide balanced nutrition for weight maintenance while taking into account the client's sedentary lifestyle, moderate stress level, and preference for whole, nutrient-dense foods. It includes a variety of fruits, vegetables, lean proteins, healthy fats, and whole grains to ensure adequate energy intake and support overall health."
      ],
      "text/plain": [
       "<IPython.core.display.Markdown object>"
      ]
     },
     "metadata": {},
     "output_type": "display_data"
    }
   ],
   "source": [
    "diet_plan_mistral = diet_generator(age, height, weight, gender, activity_level, medical_condition, allergie, medication, fitness_goal, stress_level, sleep_pattern, smoker, alchool, mistral)\n",
    "display(Markdown(diet_plan_mistral))"
   ]
  },
  {
   "cell_type": "markdown",
   "id": "89ee6eba",
   "metadata": {},
   "source": [
    "<a id=\"6\"></a>\n",
    "# <b>6 <span style='color:#B21010'>||</span> Implement Workout Plan Generator</b>"
   ]
  },
  {
   "cell_type": "code",
   "execution_count": 19,
   "id": "2339aabb",
   "metadata": {
    "ExecuteTime": {
     "end_time": "2024-03-25T16:11:38.291661Z",
     "start_time": "2024-03-25T16:11:38.286955Z"
    }
   },
   "outputs": [],
   "source": [
    "def workout_plan_gen(my_goals:str, fitness_level:str, days:int, hours:int, helth_cosnd:str, routine:str, llm)->str:\n",
    "    \n",
    "    passed_dict = {\n",
    "        'my_goals':my_goals,\n",
    "        'fitness_level':fitness_level,\n",
    "        'days':days,\n",
    "        'hours':hours,\n",
    "        'helth_cosnd':helth_cosnd,\n",
    "        'routine': routine,\n",
    "    }\n",
    "    \n",
    "    prompt = ChatPromptTemplate.from_template(\"\"\"You are a Professional Fitness Trainer:\n",
    "\n",
    "Generate a workout plan with diversity and creative exercises.\n",
    "\n",
    "Please note the following details:\n",
    "* My Goals: I'm looking to {my_goals}\n",
    "* Fitness Level: {fitness_level}.\n",
    "* Available Equipment: I have access to a gym with various equipment.\n",
    "* Time Commitment: I'm dedicated to working out {days} days a week, and I have {hours} hours a day I can spend during each session.\n",
    "* Health Considerations: I'm in the {helth_cosnd}.\n",
    "* Preferred Routine: I like to follow {routine} routine.\n",
    "\n",
    "Workout Plan:\"\"\")\n",
    "    \n",
    "    output_parser = StrOutputParser()\n",
    "    \n",
    "    chain = prompt | llm | output_parser\n",
    "    \n",
    "    workout_plan = chain.invoke(passed_dict)\n",
    "    \n",
    "    return workout_plan"
   ]
  },
  {
   "cell_type": "markdown",
   "id": "36ce6a5e",
   "metadata": {},
   "source": [
    "<a id=\"7\"></a>\n",
    "# <b>7 <span style='color:#B21010'>||</span> Test Workout Plan Generator</b>"
   ]
  },
  {
   "cell_type": "code",
   "execution_count": 18,
   "id": "32df8662",
   "metadata": {
    "ExecuteTime": {
     "end_time": "2024-03-25T16:11:13.485643Z",
     "start_time": "2024-03-25T16:11:13.481054Z"
    }
   },
   "outputs": [],
   "source": [
    "fitness_level_list = ('Beginner', 'Intermediate', 'Advanced', 'Elite')\n",
    "health_consd_list = ('Cutting Phase', 'Bulking Phase', 'Maintenance Phase', 'Lean Muscle Gain')\n",
    "routine_list = ('Bro Split', 'Push Pull Leg', 'Upper and Lower', 'Full Body')\n",
    "\n",
    "fitness_level = fitness_level_list[1]\n",
    "days = 4\n",
    "hours = 2\n",
    "health_consd = health_consd_list[1]\n",
    "routine = routine_list[0]\n",
    "my_goals = \"Increase Flexibility\""
   ]
  },
  {
   "cell_type": "code",
   "execution_count": 21,
   "id": "cb888b25",
   "metadata": {
    "ExecuteTime": {
     "end_time": "2024-03-25T16:12:17.669781Z",
     "start_time": "2024-03-25T16:12:05.047003Z"
    }
   },
   "outputs": [
    {
     "data": {
      "text/markdown": [
       "**Day 1: Chest and Triceps**\n",
       "\n",
       "* **Warm-up:** 10 minutes of light cardio (e.g., treadmill, elliptical)\n",
       "* **Dynamic Stretching:** 5 minutes of dynamic stretches (e.g., arm circles, leg swings)\n",
       "* **Exercises:**\n",
       "    * Barbell Bench Press: 3 sets of 8-12 reps\n",
       "    * Incline Dumbbell Press: 3 sets of 10-15 reps\n",
       "    * Dumbbell Flyes: 3 sets of 12-15 reps\n",
       "    * Triceps Pushdowns: 3 sets of 10-15 reps\n",
       "    * Overhead Triceps Extensions: 3 sets of 12-15 reps\n",
       "* **Flexibility Exercise:**\n",
       "    * Chest Stretch: Hold for 30 seconds per side\n",
       "\n",
       "**Day 2: Back and Biceps**\n",
       "\n",
       "* **Warm-up:** 10 minutes of light cardio (e.g., treadmill, elliptical)\n",
       "* **Dynamic Stretching:** 5 minutes of dynamic stretches (e.g., arm circles, leg swings)\n",
       "* **Exercises:**\n",
       "    * Barbell Row: 3 sets of 8-12 reps\n",
       "    * Pull-ups: 3 sets of 10-15 reps\n",
       "    * Lat Pulldowns: 3 sets of 12-15 reps\n",
       "    * Bicep Curls: 3 sets of 10-15 reps\n",
       "    * Hammer Curls: 3 sets of 12-15 reps\n",
       "* **Flexibility Exercise:**\n",
       "    * Hamstring Stretch: Hold for 30 seconds per side\n",
       "\n",
       "**Day 3: Legs (Quads and Hamstrings)**\n",
       "\n",
       "* **Warm-up:** 10 minutes of light cardio (e.g., treadmill, elliptical)\n",
       "* **Dynamic Stretching:** 5 minutes of dynamic stretches (e.g., leg swings, hip circles)\n",
       "* **Exercises:**\n",
       "    * Barbell Squat: 3 sets of 8-12 reps\n",
       "    * Leg Press: 3 sets of 10-15 reps\n",
       "    * Hamstring Curls: 3 sets of 12-15 reps\n",
       "    * Leg Extensions: 3 sets of 10-15 reps\n",
       "    * Calf Raises: 3 sets of 15-20 reps\n",
       "* **Flexibility Exercise:**\n",
       "    * Quad Stretch: Hold for 30 seconds per side\n",
       "\n",
       "**Day 4: Shoulders and Calves**\n",
       "\n",
       "* **Warm-up:** 10 minutes of light cardio (e.g., treadmill, elliptical)\n",
       "* **Dynamic Stretching:** 5 minutes of dynamic stretches (e.g., arm circles, shoulder rolls)\n",
       "* **Exercises:**\n",
       "    * Overhead Press: 3 sets of 8-12 reps\n",
       "    * Lateral Raises: 3 sets of 10-15 reps\n",
       "    * Front Raises: 3 sets of 12-15 reps\n",
       "    * Calf Raises: 3 sets of 15-20 reps\n",
       "    * Seated Calf Raises: 3 sets of 12-15 reps\n",
       "* **Flexibility Exercise:**\n",
       "    * Shoulder Stretch: Hold for 30 seconds per side\n",
       "\n",
       "**Flexibility Exercises:**\n",
       "\n",
       "* **Chest Stretch:** Lie on your back with your arms extended overhead. Grab your hands together behind your head and pull your arms back towards your feet.\n",
       "* **Hamstring Stretch:** Stand with your feet hip-width apart. Bend forward at the waist and reach your hands towards your toes.\n",
       "* **Quad Stretch:** Stand with your feet hip-width apart. Bend your right knee and grab your right foot with your right hand. Pull your heel towards your buttocks.\n",
       "* **Shoulder Stretch:** Stand with your feet shoulder-width apart. Reach your right arm across your body and grab your left wrist. Pull your left arm across your body towards your right shoulder."
      ],
      "text/plain": [
       "<IPython.core.display.Markdown object>"
      ]
     },
     "metadata": {},
     "output_type": "display_data"
    }
   ],
   "source": [
    "workout_plan_genmini = workout_plan_gen(my_goals, fitness_level, days, hours, health_consd, routine, gemini)\n",
    "display(Markdown(workout_plan_genmini))"
   ]
  },
  {
   "cell_type": "code",
   "execution_count": 22,
   "id": "69271623",
   "metadata": {
    "ExecuteTime": {
     "end_time": "2024-03-25T16:15:06.302105Z",
     "start_time": "2024-03-25T16:12:28.021857Z"
    },
    "scrolled": false
   },
   "outputs": [
    {
     "data": {
      "text/markdown": [
       " Based on your goals of increasing flexibility, intermediate fitness level, access to a gym with various equipment, and 2 hours per day for 4 days a week, here's a workout plan that incorporates diverse and creative exercises while following the Bro Split routine:\n",
       "\n",
       "Day 1 (Chest and Triceps):\n",
       "1. Bench Press (Barbell or Smith Machine) - 3 sets of 8-12 reps\n",
       "   * Incorporate a controlled stretch at the bottom of each rep to enhance flexibility in the chest muscles.\n",
       "2. Incline Dumbbell Flyes - 3 sets of 12-15 reps\n",
       "   * Perform this exercise slowly, focusing on the stretch and contraction of the chest muscles.\n",
       "3. Tricep Dips (Assisted or Unassisted) - 3 sets of 10-12 reps\n",
       "   * Incorporate a dynamic stretch before each set to improve tricep flexibility.\n",
       "4. Overhead Tricep Extension (Rope or Dumbbell) - 3 sets of 12-15 reps\n",
       "   * Perform this exercise with control, focusing on the extension and contraction of the triceps.\n",
       "5. Stretching Routine for Chest, Shoulders, and Triceps - 3 sets, holding each stretch for 30 seconds.\n",
       "\n",
       "Day 2 (Back and Biceps):\n",
       "1. Pull-ups or Assisted Pull-ups - 3 sets of 8-12 reps\n",
       "   * Incorporate a controlled stretch at the top of each rep to enhance flexibility in the back muscles.\n",
       "2. Seated Cable Rows - 3 sets of 12-15 reps\n",
       "   * Perform this exercise with control, focusing on the contraction and squeeze of the back muscles.\n",
       "3. Barbell Bicep Curls - 3 sets of 8-12 reps\n",
       "   * Incorporate a dynamic stretch before each set to improve bicep flexibility.\n",
       "4. Hammer Curls (Dumbbells or Machine) - 3 sets of 12-15 reps\n",
       "   * Perform this exercise with control, focusing on the contraction and peak contraction of the biceps.\n",
       "5. Stretching Routine for Back, Biceps, and Forearms - 3 sets, holding each stretch for 30 seconds.\n",
       "\n",
       "Day 3 (Legs):\n",
       "1. Barbell Squats - 4 sets of 8-12 reps\n",
       "   * Incorporate a controlled stretch at the bottom of each rep to enhance flexibility in the hips and hamstrings.\n",
       "2. Leg Press (Quads) - 3 sets of 12-15 reps\n",
       "   * Perform this exercise with control, focusing on the contraction and squeeze of the quadriceps.\n",
       "3. Romanian Deadlifts (RDLs) - 3 sets of 12-15 reps\n",
       "   * Incorporate a controlled stretch at the bottom of each rep to enhance flexibility in the hamstrings and lower back.\n",
       "4. Leg Curls (Seated or Prone) - 3 sets of 12-15 reps\n",
       "   * Perform this exercise with control, focusing on the contraction and squeeze of the hamstrings.\n",
       "5. Standing Calf Raise (Smith Machine or Dumbbells) - 3 sets of 15-20 reps\n",
       "6. Stretching Routine for Quads, Hamstrings, Glutes, and Calves - 3 sets, holding each stretch for 30 seconds.\n",
       "\n",
       "Day 4 (Shoulders and Abs):\n",
       "1. Military Press (Barbell or Smith Machine) - 3 sets of 8-12 reps\n",
       "   * Incorporate a controlled stretch at the bottom of each rep to enhance flexibility in the shoulders.\n",
       "2. Seated Dumbbell Lateral Raise - 3 sets of 12-15 reps\n",
       "   * Perform this exercise with control, focusing on the contraction and squeeze of the shoulder muscles.\n",
       "3. Hanging Leg Raises (Knees or Straight Leg) - 3 sets of 12-15 reps\n",
       "   * Perform this exercise with control, focusing on the engagement and contraction of the abs.\n",
       "4. Russian Twists (Weighted or Bodyweight) - 3 sets of 12-15 reps\n",
       "   * Perform this exercise with control, focusing on the rotation and engagement of the oblique muscles.\n",
       "5. Plank (Elbow or Side) - 3 sets, holding for 30-60 seconds\n",
       "6. Stretching Routine for Shoulders, Abs, and Lower Back - 3 sets, holding each stretch for 30 seconds.\n",
       "\n",
       "Remember to always warm up before starting your workout and cool down afterwards. This routine should help you increase flexibility while building muscle in the bulking phase."
      ],
      "text/plain": [
       "<IPython.core.display.Markdown object>"
      ]
     },
     "metadata": {},
     "output_type": "display_data"
    }
   ],
   "source": [
    "workout_plan_mistral = workout_plan_gen(my_goals, fitness_level, days, hours, health_consd, routine, mistral)\n",
    "display(Markdown(workout_plan_mistral))"
   ]
  }
 ],
 "metadata": {
  "kernelspec": {
   "display_name": "AIkernel",
   "language": "python",
   "name": "aikernel"
  },
  "language_info": {
   "codemirror_mode": {
    "name": "ipython",
    "version": 3
   },
   "file_extension": ".py",
   "mimetype": "text/x-python",
   "name": "python",
   "nbconvert_exporter": "python",
   "pygments_lexer": "ipython3",
   "version": "3.11.5"
  }
 },
 "nbformat": 4,
 "nbformat_minor": 5
}
